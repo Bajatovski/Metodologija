{
 "cells": [
  {
   "cell_type": "code",
   "execution_count": 1,
   "metadata": {
    "kernel": "SoS"
   },
   "outputs": [
    {
     "data": {
      "text/latex": [
       "$\\displaystyle I_{f,filt} = HI_f \\\\ H(i,j) = e ^ \\frac{-d(i,j)^2}{f_h^2}\\ (1-e ^ \\frac{-d(i,j)^2}{f_l^2}) \\\\ F(u,v) = {\\iint \\limits_{-\\infty}^\\infty} f(x,y)e^{-i2\\pi(ux+vy)} dxdy \\\\ F(u,v) = \\sum_{m=-\\infty}^{\\infty} \\sum_{n=-\\infty}^{\\infty} f[m,n] \\cdot e^{-i2\\pi(umx_0+vny_0)} \\\\ F(x,y) = {\\iint \\limits_{-\\infty}^\\infty} f(u,v)e^{-i2\\pi(ux+vy)} dudv \\\\ F(x,y) = \\sum_{m=-\\infty}^{\\infty} \\sum_{n=-\\infty}^{\\infty} f(m,n) \\cdot e^{i2\\pi(xmu_0+ynv_0)}$"
      ],
      "text/plain": [
       "<IPython.core.display.Math object>"
      ]
     },
     "execution_count": 1,
     "metadata": {},
     "output_type": "execute_result"
    }
   ],
   "source": [
    "from IPython.display import Math\n",
    "Math(r'I_{f,filt} = HI_f \\\\ H(i,j) = e ^ \\frac{-d(i,j)^2}{f_h^2}\\ (1-e ^ \\frac{-d(i,j)^2}{f_l^2}) \\\\ F(u,v) = {\\iint \\limits_{-\\infty}^\\infty} f(x,y)e^{-i2\\pi(ux+vy)} dxdy \\\\ F(u,v) = \\sum_{m=-\\infty}^{\\infty} \\sum_{n=-\\infty}^{\\infty} f[m,n] \\cdot e^{-i2\\pi(umx_0+vny_0)} \\\\ F(x,y) = {\\iint \\limits_{-\\infty}^\\infty} f(u,v)e^{-i2\\pi(ux+vy)} dudv \\\\ F(x,y) = \\sum_{m=-\\infty}^{\\infty} \\sum_{n=-\\infty}^{\\infty} f(m,n) \\cdot e^{i2\\pi(xmu_0+ynv_0)}')"
   ]
  },
  {
   "cell_type": "code",
   "execution_count": 8,
   "metadata": {
    "kernel": "SoS"
   },
   "outputs": [
    {
     "data": {
      "application/vnd.jupyter.widget-view+json": {
       "model_id": "4451707629c74fca80df9dd0849db7d8",
       "version_major": 2,
       "version_minor": 0
      },
      "text/plain": [
       "HBox(children=(IntSlider(value=0),))"
      ]
     },
     "metadata": {},
     "output_type": "display_data"
    },
    {
     "data": {
      "application/vnd.jupyter.widget-view+json": {
       "model_id": "f899fa47fe874ca290d6730a243862ea",
       "version_major": 2,
       "version_minor": 0
      },
      "text/plain": [
       "Output()"
      ]
     },
     "metadata": {},
     "output_type": "display_data"
    }
   ],
   "source": [
    "import ipywidgets as widgets\n",
    "from ipywidgets import FloatSlider\n",
    "\n",
    "slider = widgets.IntSlider()\n",
    "wid = widgets.HBox([slider])\n",
    "def fun(slider):\n",
    "    print((slider))\n",
    "pr = widgets.interactive_output(fun, {'slider': slider})\n",
    "display(wid, pr)"
   ]
  },
  {
   "cell_type": "code",
   "execution_count": 9,
   "metadata": {
    "kernel": "SoS"
   },
   "outputs": [
    {
     "name": "stdout",
     "output_type": "stream",
     "text": [
      "[1 1 1]\n"
     ]
    }
   ],
   "source": [
    "import numpy as a\n",
    "\n",
    "nx=3\n",
    "ny=7\n",
    "\n",
    "#function filter = create_filter(nx,ny,d0,d1) // ne ja prepoznava funkcijata\n",
    "\n",
    "filter1 = a.ones(nx, dtype = int);\n",
    "\n",
    "print(filter1)\n",
    "\n",
    "#for i = 0:nx-1\n",
    "#    for j = 0:ny-1\n",
    "#        dist = sqrt((i-nx/2)^2 + (j-ny/2)^2);\n",
    "#        filter(i+1,j+1) = exp(-(dist^2)/(d1^2)).*(1.0-exp(-(dist^2)/(d0^2)));\n",
    "#    end\n",
    "#end\n",
    "#filter(nx/2+1,ny/2+1)=1;\n",
    "#end\n"
   ]
  }
 ],
 "metadata": {
  "kernelspec": {
   "display_name": "SoS",
   "language": "sos",
   "name": "sos"
  },
  "language_info": {
   "codemirror_mode": "sos",
   "file_extension": ".sos",
   "mimetype": "text/x-sos",
   "name": "sos",
   "nbconvert_exporter": "sos_notebook.converter.SoS_Exporter",
   "pygments_lexer": "sos"
  },
  "sos": {
   "kernels": [],
   "panel": {
    "displayed": true,
    "height": 0
   },
   "version": "0.21.0"
  }
 },
 "nbformat": 4,
 "nbformat_minor": 2
}
